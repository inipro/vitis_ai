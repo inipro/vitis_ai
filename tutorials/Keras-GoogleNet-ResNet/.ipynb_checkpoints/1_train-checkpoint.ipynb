{
 "cells": [
  {
   "cell_type": "code",
   "execution_count": null,
   "metadata": {
    "colab": {
     "base_uri": "https://localhost:8080/",
     "height": 122
    },
    "colab_type": "code",
    "executionInfo": {
     "elapsed": 21284,
     "status": "ok",
     "timestamp": 1593782719050,
     "user": {
      "displayName": "HyunOk Kim",
      "photoUrl": "https://lh3.googleusercontent.com/a-/AOh14GiTcOTWXmtM1NvSz72bbc6J8wIl9eQM0MN2-gFmng=s64",
      "userId": "04289708639229023375"
     },
     "user_tz": -540
    },
    "id": "b6bU0aHRNcri",
    "outputId": "a47023a2-ab39-4909-d341-c219e4f3bc42",
    "scrolled": true
   },
   "outputs": [],
   "source": [
    "from google.colab import drive\n",
    "drive.mount('/content/drive/')\n",
    "import os\n",
    "os.chdir('/content/drive/My Drive/vitis_ai/Keras-GoogleNet-ResNet')"
   ]
  },
  {
   "cell_type": "code",
   "execution_count": null,
   "metadata": {
    "colab": {
     "base_uri": "https://localhost:8080/",
     "height": 272
    },
    "colab_type": "code",
    "executionInfo": {
     "elapsed": 26597,
     "status": "ok",
     "timestamp": 1593782724374,
     "user": {
      "displayName": "HyunOk Kim",
      "photoUrl": "https://lh3.googleusercontent.com/a-/AOh14GiTcOTWXmtM1NvSz72bbc6J8wIl9eQM0MN2-gFmng=s64",
      "userId": "04289708639229023375"
     },
     "user_tz": -540
    },
    "id": "jOCbO8LK0X6s",
    "outputId": "dd8cbc55-5fc2-46a6-9834-9a5339bda908",
    "scrolled": true
   },
   "outputs": [],
   "source": [
    "!pip install keras==2.2.4"
   ]
  },
  {
   "cell_type": "code",
   "execution_count": null,
   "metadata": {
    "colab": {
     "base_uri": "https://localhost:8080/",
     "height": 34
    },
    "colab_type": "code",
    "executionInfo": {
     "elapsed": 27002,
     "status": "ok",
     "timestamp": 1593782724784,
     "user": {
      "displayName": "HyunOk Kim",
      "photoUrl": "https://lh3.googleusercontent.com/a-/AOh14GiTcOTWXmtM1NvSz72bbc6J8wIl9eQM0MN2-gFmng=s64",
      "userId": "04289708639229023375"
     },
     "user_tz": -540
    },
    "id": "SlAQ_toQNp21",
    "outputId": "6824bf7b-ea1c-46a7-fc4c-94d2824632c8"
   },
   "outputs": [],
   "source": [
    "%tensorflow_version 1.x"
   ]
  },
  {
   "cell_type": "code",
   "execution_count": null,
   "metadata": {
    "colab": {},
    "colab_type": "code",
    "executionInfo": {
     "elapsed": 29800,
     "status": "ok",
     "timestamp": 1593782727590,
     "user": {
      "displayName": "HyunOk Kim",
      "photoUrl": "https://lh3.googleusercontent.com/a-/AOh14GiTcOTWXmtM1NvSz72bbc6J8wIl9eQM0MN2-gFmng=s64",
      "userId": "04289708639229023375"
     },
     "user_tz": -540
    },
    "id": "H-0CIQWlPREO"
   },
   "outputs": [],
   "source": [
    "!mkdir -p doc/images"
   ]
  },
  {
   "cell_type": "code",
   "execution_count": null,
   "metadata": {
    "colab": {
     "base_uri": "https://localhost:8080/",
     "height": 1000
    },
    "colab_type": "code",
    "executionInfo": {
     "elapsed": 482056,
     "status": "ok",
     "timestamp": 1593783179851,
     "user": {
      "displayName": "HyunOk Kim",
      "photoUrl": "https://lh3.googleusercontent.com/a-/AOh14GiTcOTWXmtM1NvSz72bbc6J8wIl9eQM0MN2-gFmng=s64",
      "userId": "04289708639229023375"
     },
     "user_tz": -540
    },
    "id": "Yl1d0v_iNwxH",
    "outputId": "29b33344-2899-4dd4-a126-fa81ea84ac1e"
   },
   "outputs": [],
   "source": [
    "!mkdir -p keras_model/cifar10/LeNet\n",
    "!python code/train_cifar10_npz.py --network LeNet --weights keras_model/cifar10/LeNet --epochs 20 --init_lr 0.01 --batch_size 32 "
   ]
  },
  {
   "cell_type": "code",
   "execution_count": null,
   "metadata": {
    "colab": {
     "base_uri": "https://localhost:8080/",
     "height": 1000
    },
    "colab_type": "code",
    "executionInfo": {
     "elapsed": 1099723,
     "status": "ok",
     "timestamp": 1593783797525,
     "user": {
      "displayName": "HyunOk Kim",
      "photoUrl": "https://lh3.googleusercontent.com/a-/AOh14GiTcOTWXmtM1NvSz72bbc6J8wIl9eQM0MN2-gFmng=s64",
      "userId": "04289708639229023375"
     },
     "user_tz": -540
    },
    "id": "NaIzmMa2UdDq",
    "outputId": "8df05834-ce20-4942-e450-5190e1cd5975"
   },
   "outputs": [],
   "source": [
    "!mkdir -p keras_model/cifar10/miniVggNet\n",
    "!python code/train_cifar10_npz.py --network miniVggNet --weights keras_model/cifar10/miniVggNet --epochs 40 --init_lr 0.01 --batch_size 64"
   ]
  },
  {
   "cell_type": "code",
   "execution_count": null,
   "metadata": {
    "colab": {
     "base_uri": "https://localhost:8080/",
     "height": 1000
    },
    "colab_type": "code",
    "executionInfo": {
     "elapsed": 5573740,
     "status": "ok",
     "timestamp": 1593788271548,
     "user": {
      "displayName": "HyunOk Kim",
      "photoUrl": "https://lh3.googleusercontent.com/a-/AOh14GiTcOTWXmtM1NvSz72bbc6J8wIl9eQM0MN2-gFmng=s64",
      "userId": "04289708639229023375"
     },
     "user_tz": -540
    },
    "id": "hxdU4qrEUqHd",
    "outputId": "27c9ec37-a612-4165-b009-befcd4feb5e6"
   },
   "outputs": [],
   "source": [
    "!mkdir -p keras_model/cifar10/miniGoogleNet\n",
    "!python code/train_cifar10_npz.py   --network miniGoogleNet --weights keras_model/cifar10/miniGoogleNet --epochs 70 --init_lr 5e-3  --batch_size 128"
   ]
  },
  {
   "cell_type": "code",
   "execution_count": null,
   "metadata": {
    "colab": {
     "base_uri": "https://localhost:8080/",
     "height": 1000
    },
    "colab_type": "code",
    "executionInfo": {
     "elapsed": 15372154,
     "status": "ok",
     "timestamp": 1593798069968,
     "user": {
      "displayName": "HyunOk Kim",
      "photoUrl": "https://lh3.googleusercontent.com/a-/AOh14GiTcOTWXmtM1NvSz72bbc6J8wIl9eQM0MN2-gFmng=s64",
      "userId": "04289708639229023375"
     },
     "user_tz": -540
    },
    "id": "SU5aVmamUy1O",
    "outputId": "311121f8-f6f0-4b5d-e956-518c40322fe5"
   },
   "outputs": [],
   "source": [
    "!mkdir -p keras_model/cifar10/miniResNet\n",
    "!python code/train_cifar10_npz.py  --network miniResNet --weights keras_model/cifar10/miniResNet --epochs 100 --init_lr 0.1 --batch_size 128"
   ]
  },
  {
   "cell_type": "code",
   "execution_count": null,
   "metadata": {
    "colab": {
     "base_uri": "https://localhost:8080/",
     "height": 1000
    },
    "colab_type": "code",
    "executionInfo": {
     "elapsed": 15889729,
     "status": "ok",
     "timestamp": 1593798587548,
     "user": {
      "displayName": "HyunOk Kim",
      "photoUrl": "https://lh3.googleusercontent.com/a-/AOh14GiTcOTWXmtM1NvSz72bbc6J8wIl9eQM0MN2-gFmng=s64",
      "userId": "04289708639229023375"
     },
     "user_tz": -540
    },
    "id": "vNqn6MRIcTMS",
    "outputId": "6f0ee26b-8f43-4507-c6f0-7781e74cc90f"
   },
   "outputs": [],
   "source": [
    "!mkdir -p keras_model/fmnist/LeNet\n",
    "!python code/train_fashion_mnist_npz.py --network LeNet --weights keras_model/fmnist/LeNet --epochs 5 --init_lr 0.01 --batch_size 32"
   ]
  },
  {
   "cell_type": "code",
   "execution_count": null,
   "metadata": {
    "colab": {
     "base_uri": "https://localhost:8080/",
     "height": 1000
    },
    "colab_type": "code",
    "executionInfo": {
     "elapsed": 16649935,
     "status": "ok",
     "timestamp": 1593799347759,
     "user": {
      "displayName": "HyunOk Kim",
      "photoUrl": "https://lh3.googleusercontent.com/a-/AOh14GiTcOTWXmtM1NvSz72bbc6J8wIl9eQM0MN2-gFmng=s64",
      "userId": "04289708639229023375"
     },
     "user_tz": -540
    },
    "id": "BfwwUbkWchpB",
    "outputId": "7ad17db0-9fcf-44d7-d6cb-acf7f75568b6"
   },
   "outputs": [],
   "source": [
    "!mkdir -p keras_model/fmnist/miniVggNet\n",
    "!python code/train_fashion_mnist_npz.py --network miniVggNet --weights keras_model/fmnist/miniVggNet --epochs 25 --init_lr 0.01 --batch_size 64"
   ]
  },
  {
   "cell_type": "code",
   "execution_count": null,
   "metadata": {
    "colab": {
     "base_uri": "https://localhost:8080/",
     "height": 1000
    },
    "colab_type": "code",
    "executionInfo": {
     "elapsed": 21911864,
     "status": "ok",
     "timestamp": 1593804609693,
     "user": {
      "displayName": "HyunOk Kim",
      "photoUrl": "https://lh3.googleusercontent.com/a-/AOh14GiTcOTWXmtM1NvSz72bbc6J8wIl9eQM0MN2-gFmng=s64",
      "userId": "04289708639229023375"
     },
     "user_tz": -540
    },
    "id": "PmbaOkgPcstB",
    "outputId": "80a2f2b4-775a-41ce-9663-7488420b7d12"
   },
   "outputs": [],
   "source": [
    "!mkdir -p keras_model/fmnist/miniGoogleNet\n",
    "!python code/train_fashion_mnist_npz.py --network miniGoogleNet --weights keras_model/fmnist/miniGoogleNet --epochs 70 --init_lr 5e-3  --batch_size 128"
   ]
  },
  {
   "cell_type": "code",
   "execution_count": null,
   "metadata": {
    "colab": {
     "base_uri": "https://localhost:8080/",
     "height": 1000
    },
    "colab_type": "code",
    "executionInfo": {
     "elapsed": 33728430,
     "status": "ok",
     "timestamp": 1593816426264,
     "user": {
      "displayName": "HyunOk Kim",
      "photoUrl": "https://lh3.googleusercontent.com/a-/AOh14GiTcOTWXmtM1NvSz72bbc6J8wIl9eQM0MN2-gFmng=s64",
      "userId": "04289708639229023375"
     },
     "user_tz": -540
    },
    "id": "9H9StbUoc0oi",
    "outputId": "549ba89a-c763-46e6-c569-82135a215fae"
   },
   "outputs": [],
   "source": [
    "!mkdir -p keras_model/fmnist/miniResNet\n",
    "!python code/train_fashion_mnist_npz.py --network miniResNet --weights keras_model/fmnist/miniResNet --epochs 100 --init_lr 0.1 --batch_size 128"
   ]
  }
 ],
 "metadata": {
  "accelerator": "GPU",
  "colab": {
   "authorship_tag": "ABX9TyOBEH4E0PpR2GzG/c3Z5yjK",
   "collapsed_sections": [],
   "name": "1_train.ipynb",
   "provenance": []
  },
  "kernelspec": {
   "display_name": "Python 3",
   "language": "python",
   "name": "python3"
  },
  "language_info": {
   "codemirror_mode": {
    "name": "ipython",
    "version": 3
   },
   "file_extension": ".py",
   "mimetype": "text/x-python",
   "name": "python",
   "nbconvert_exporter": "python",
   "pygments_lexer": "ipython3",
   "version": "3.6.9"
  }
 },
 "nbformat": 4,
 "nbformat_minor": 1
}
