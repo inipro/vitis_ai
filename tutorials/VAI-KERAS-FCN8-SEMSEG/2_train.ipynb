{
 "cells": [
  {
   "cell_type": "code",
   "execution_count": null,
   "metadata": {
    "colab": {
     "base_uri": "https://localhost:8080/",
     "height": 34
    },
    "colab_type": "code",
    "executionInfo": {
     "elapsed": 749,
     "status": "ok",
     "timestamp": 1593935747540,
     "user": {
      "displayName": "Hyunok Kim",
      "photoUrl": "",
      "userId": "04657289622621103987"
     },
     "user_tz": -540
    },
    "id": "2a69hm4hSbG7",
    "outputId": "d219b4b5-b062-4b8a-be9b-e41274613d01",
    "scrolled": false
   },
   "outputs": [],
   "source": [
    "from google.colab import drive\n",
    "drive.mount('/content/drive/')\n",
    "import os\n",
    "os.chdir('/content/drive/My Drive/vitis_ai/VAI-KERAS-FCN8-SEMSEG')"
   ]
  },
  {
   "cell_type": "code",
   "execution_count": null,
   "metadata": {
    "colab": {
     "base_uri": "https://localhost:8080/",
     "height": 153
    },
    "colab_type": "code",
    "executionInfo": {
     "elapsed": 3370,
     "status": "ok",
     "timestamp": 1593935750166,
     "user": {
      "displayName": "Hyunok Kim",
      "photoUrl": "",
      "userId": "04657289622621103987"
     },
     "user_tz": -540
    },
    "id": "D9sUwIsobCB1",
    "outputId": "15326f74-443c-41ff-f6fe-bb5b33221722"
   },
   "outputs": [],
   "source": [
    "!pip install keras==2.2.4"
   ]
  },
  {
   "cell_type": "code",
   "execution_count": null,
   "metadata": {
    "colab": {},
    "colab_type": "code",
    "executionInfo": {
     "elapsed": 3370,
     "status": "ok",
     "timestamp": 1593935750169,
     "user": {
      "displayName": "Hyunok Kim",
      "photoUrl": "",
      "userId": "04657289622621103987"
     },
     "user_tz": -540
    },
    "id": "5nx0_CrKbF5l"
   },
   "outputs": [],
   "source": [
    "%tensorflow_version 1.x"
   ]
  },
  {
   "cell_type": "code",
   "execution_count": null,
   "metadata": {
    "colab": {
     "base_uri": "https://localhost:8080/",
     "height": 309
    },
    "colab_type": "code",
    "executionInfo": {
     "elapsed": 8351,
     "status": "ok",
     "timestamp": 1593935755152,
     "user": {
      "displayName": "Hyunok Kim",
      "photoUrl": "",
      "userId": "04657289622621103987"
     },
     "user_tz": -540
    },
    "id": "VMXVDt7ubNd4",
    "outputId": "75f7acf4-2617-431e-ea26-6d2098cbaa97"
   },
   "outputs": [],
   "source": [
    "!mkdir -p keras_model/fcn8 keras_model/fcn8ups keras_model/unet rpt\n",
    "!cd keras_model; wget https://github.com/fchollet/deep-learning-models/releases/download/v0.1/vgg16_weights_tf_dim_ordering_tf_kernels_notop.h5"
   ]
  },
  {
   "cell_type": "code",
   "execution_count": null,
   "metadata": {
    "colab": {
     "base_uri": "https://localhost:8080/",
     "height": 1000
    },
    "colab_type": "code",
    "executionInfo": {
     "elapsed": 826028,
     "status": "ok",
     "timestamp": 1593936572830,
     "user": {
      "displayName": "Hyunok Kim",
      "photoUrl": "",
      "userId": "04657289622621103987"
     },
     "user_tz": -540
    },
    "id": "n8r7tYCzb7sT",
    "outputId": "382d1b86-848e-4824-f436-1b20b551640d"
   },
   "outputs": [],
   "source": [
    "!cd code; python fcn8_training_npz.py --upscale False"
   ]
  },
  {
   "cell_type": "code",
   "execution_count": null,
   "metadata": {
    "colab": {
     "base_uri": "https://localhost:8080/",
     "height": 1000
    },
    "colab_type": "code",
    "executionInfo": {
     "elapsed": 1569549,
     "status": "ok",
     "timestamp": 1593937316355,
     "user": {
      "displayName": "Hyunok Kim",
      "photoUrl": "",
      "userId": "04657289622621103987"
     },
     "user_tz": -540
    },
    "id": "00nZmLr9fbTV",
    "outputId": "ef96f474-12ae-40be-a477-2be3e3f34bb0"
   },
   "outputs": [],
   "source": [
    "!cd code; python fcn8_training_npz.py --upscale True"
   ]
  },
  {
   "cell_type": "code",
   "execution_count": null,
   "metadata": {
    "colab": {
     "base_uri": "https://localhost:8080/",
     "height": 1000
    },
    "colab_type": "code",
    "executionInfo": {
     "elapsed": 3723428,
     "status": "ok",
     "timestamp": 1593939470236,
     "user": {
      "displayName": "Hyunok Kim",
      "photoUrl": "",
      "userId": "04657289622621103987"
     },
     "user_tz": -540
    },
    "id": "jPJ2jcKZfo-5",
    "outputId": "515d6d7a-5bc2-4bef-ce46-82894fbed29b"
   },
   "outputs": [],
   "source": [
    "!cd code; python unet_training_npz.py -m 1"
   ]
  },
  {
   "cell_type": "code",
   "execution_count": null,
   "metadata": {
    "colab": {
     "base_uri": "https://localhost:8080/",
     "height": 1000
    },
    "colab_type": "code",
    "executionInfo": {
     "elapsed": 6143036,
     "status": "ok",
     "timestamp": 1593941889847,
     "user": {
      "displayName": "Hyunok Kim",
      "photoUrl": "",
      "userId": "04657289622621103987"
     },
     "user_tz": -540
    },
    "id": "SG5MkROyf5-0",
    "outputId": "87ce52d6-fed6-48a8-d456-727721fec309"
   },
   "outputs": [],
   "source": [
    "!cd code; python unet_training_npz.py -m 2"
   ]
  },
  {
   "cell_type": "code",
   "execution_count": null,
   "metadata": {
    "colab": {
     "base_uri": "https://localhost:8080/",
     "height": 1000
    },
    "colab_type": "code",
    "executionInfo": {
     "elapsed": 8249931,
     "status": "ok",
     "timestamp": 1593943996744,
     "user": {
      "displayName": "Hyunok Kim",
      "photoUrl": "",
      "userId": "04657289622621103987"
     },
     "user_tz": -540
    },
    "id": "sZSu1hhsgDHG",
    "outputId": "199bf4ba-8e80-4116-b825-94ab513c4a18"
   },
   "outputs": [],
   "source": [
    "!cd code; python unet_training_npz.py -m 3"
   ]
  }
 ],
 "metadata": {
  "accelerator": "GPU",
  "colab": {
   "authorship_tag": "ABX9TyOM2LAg5MbOV0Fy+8DhXEtF",
   "collapsed_sections": [],
   "machine_shape": "hm",
   "name": "2_train.ipynb",
   "provenance": []
  },
  "kernelspec": {
   "display_name": "Python 3",
   "language": "python",
   "name": "python3"
  },
  "language_info": {
   "codemirror_mode": {
    "name": "ipython",
    "version": 3
   },
   "file_extension": ".py",
   "mimetype": "text/x-python",
   "name": "python",
   "nbconvert_exporter": "python",
   "pygments_lexer": "ipython3",
   "version": "3.6.9"
  }
 },
 "nbformat": 4,
 "nbformat_minor": 1
}
